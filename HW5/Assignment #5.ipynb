{
 "cells": [
  {
   "cell_type": "code",
   "execution_count": 2,
   "id": "eadab359",
   "metadata": {},
   "outputs": [],
   "source": [
    "# Import the NumPy library\n",
    "import numpy as np\n",
    "\n",
    "# Define the function that performs Gaussian elimination with partial pivoting\n",
    "def gaussian_elimination_with_pivoting(A, b):\n",
    "    n = A.shape[0]\n",
    "    U = np.copy(A)\n",
    "    L = np.eye(n)\n",
    "    P = np.eye(n)\n",
    "    \n",
    "    # Forward Elimination with Partial Pivoting\n",
    "    for k in range(n):\n",
    "        # Find the row with the maximum absolute value for the pivot column\n",
    "        max_row = np.argmax(np.abs(U[k:n, k])) + k\n",
    "        # Swap the current row and the max row for U, P, and L\n",
    "        U[[k, max_row]] = U[[max_row, k]]\n",
    "        P[[k, max_row]] = P[[max_row, k]]\n",
    "        L[[k, max_row], :k] = L[[max_row, k], :k]\n",
    "        \n",
    "        # Check if the matrix is singular\n",
    "        if U[k, k] == 0:\n",
    "            return \"Matrix is singular\", None, None, None\n",
    "        \n",
    "        # Eliminate elements below the pivot to create zeros\n",
    "        for i in range(k+1, n):\n",
    "            factor = U[i, k] / U[k, k]\n",
    "            L[i, k] = factor\n",
    "            U[i, k:] = U[i, k:] - factor * U[k, k:]\n",
    "            \n",
    "    # Forward substitution to solve Ly = Pb\n",
    "    y = np.zeros(n)\n",
    "    b = np.dot(P, b)\n",
    "    for i in range(n):\n",
    "        if i == 0:\n",
    "            y[i] = b[i, 0]  # Directly assign the first element\n",
    "    else:\n",
    "            y[i] = b[i, 0] - np.dot(L[i, :i], y[:i])\n",
    "    \n",
    "    # Backward substitution to solve Ux = y\n",
    "    x = np.zeros(n)\n",
    "    for i in range(n-1, -1, -1):\n",
    "        x[i] = (y[i] - np.dot(U[i, i+1:], x[i+1:])) / U[i, i]\n",
    "    \n",
    "    # Return the solution x, and the matrices P, L, and U\n",
    "    return x.reshape(-1, 1), P, L, U"
   ]
  },
  {
   "cell_type": "code",
   "execution_count": 3,
   "id": "0325c428",
   "metadata": {},
   "outputs": [
    {
     "data": {
      "text/plain": [
       "(array([[ 0.075],\n",
       "        [-0.625],\n",
       "        [ 0.   ],\n",
       "        [ 0.   ],\n",
       "        [ 1.25 ]]),\n",
       " array([[1., 0., 0., 0., 0.],\n",
       "        [0., 1., 0., 0., 0.],\n",
       "        [0., 0., 1., 0., 0.],\n",
       "        [0., 0., 0., 1., 0.],\n",
       "        [0., 0., 0., 0., 1.]]),\n",
       " array([[1.  , 0.  , 0.  , 0.  , 0.  ],\n",
       "        [0.  , 1.  , 0.  , 0.  , 0.  ],\n",
       "        [0.2 , 0.  , 1.  , 0.  , 0.  ],\n",
       "        [0.  , 0.25, 0.5 , 1.  , 0.  ],\n",
       "        [0.  , 0.  , 0.25, 0.4 , 1.  ]]),\n",
       " array([[5, 1, 0, 2, 1],\n",
       "        [0, 4, 0, 1, 2],\n",
       "        [0, 0, 4, 0, 0],\n",
       "        [0, 0, 0, 5, 0],\n",
       "        [0, 0, 0, 0, 4]]))"
      ]
     },
     "execution_count": 3,
     "metadata": {},
     "output_type": "execute_result"
    }
   ],
   "source": [
    "# Define the matrix A and B from the statement.\n",
    "A_b = np.array([\n",
    "    [5, 1, 0, 2, 1],\n",
    "    [0, 4, 0, 1, 2],\n",
    "    [1, 1, 4, 1, 1],\n",
    "    [0, 1, 2, 6, 0],\n",
    "    [0, 0, 1, 2, 4]\n",
    "])\n",
    "\n",
    "b_b = np.array([\n",
    "    [1],\n",
    "    [2],\n",
    "    [3],\n",
    "    [4],\n",
    "    [5]\n",
    "])\n",
    "\n",
    "# Use the Gaussian Elimination function\n",
    "x_b, P_b, L_b, U_b = gaussian_elimination_with_pivoting(A_b, b_b)\n",
    "\n",
    "# show the result\n",
    "x_b, P_b, L_b, U_b"
   ]
  },
  {
   "cell_type": "code",
   "execution_count": 4,
   "id": "218d057b",
   "metadata": {},
   "outputs": [
    {
     "data": {
      "text/plain": [
       "('Matrix is singular', None, None, None)"
      ]
     },
     "execution_count": 4,
     "metadata": {},
     "output_type": "execute_result"
    }
   ],
   "source": [
    "# Define the matrix A and B from the statement.\n",
    "A_c = np.array([\n",
    "    [5, 1, 0, 2],\n",
    "    [0, 4, 0, 8],\n",
    "    [1, 1, 4, 2],\n",
    "    [0, 1, 2, 2]\n",
    "])\n",
    "\n",
    "b_c = np.array([\n",
    "    [1],\n",
    "    [2],\n",
    "    [3],\n",
    "    [4]\n",
    "])\n",
    "\n",
    "# Use the Gaussian Elimination function\n",
    "x_c, P_c, L_c, U_c = gaussian_elimination_with_pivoting(A_c, b_c)\n",
    "\n",
    "# show the result\n",
    "x_c, P_c, L_c, U_c"
   ]
  }
 ],
 "metadata": {
  "kernelspec": {
   "display_name": "Python 3 (ipykernel)",
   "language": "python",
   "name": "python3"
  },
  "language_info": {
   "codemirror_mode": {
    "name": "ipython",
    "version": 3
   },
   "file_extension": ".py",
   "mimetype": "text/x-python",
   "name": "python",
   "nbconvert_exporter": "python",
   "pygments_lexer": "ipython3",
   "version": "3.11.4"
  }
 },
 "nbformat": 4,
 "nbformat_minor": 5
}
